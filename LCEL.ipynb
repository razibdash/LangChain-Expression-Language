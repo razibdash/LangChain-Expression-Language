{
 "cells": [
  {
   "cell_type": "code",
   "execution_count": 1,
   "id": "022de3ce",
   "metadata": {},
   "outputs": [
    {
     "name": "stdout",
     "output_type": "stream",
     "text": [
      "LCEL\n"
     ]
    }
   ],
   "source": [
    "print(\"LCEL\")"
   ]
  },
  {
   "cell_type": "code",
   "execution_count": 4,
   "id": "f68081d9",
   "metadata": {},
   "outputs": [],
   "source": [
    "import os\n",
    "from dotenv import load_dotenv, find_dotenv\n",
    "_ = load_dotenv(find_dotenv())\n",
    "GROQ_API_KEY = os.getenv(\"GROQ_API_KEY\")"
   ]
  },
  {
   "cell_type": "code",
   "execution_count": 5,
   "id": "6af5b30e",
   "metadata": {},
   "outputs": [
    {
     "name": "stderr",
     "output_type": "stream",
     "text": [
      "d:\\anaconda\\envs\\llmapp\\Lib\\site-packages\\langchain_groq\\chat_models.py:355: UserWarning: WARNING! max_completion_tokens is not default parameter.\n",
      "                    max_completion_tokens was transferred to model_kwargs.\n",
      "                    Please confirm that max_completion_tokens is what you intended.\n",
      "  warnings.warn(\n",
      "d:\\anaconda\\envs\\llmapp\\Lib\\site-packages\\langchain_groq\\chat_models.py:355: UserWarning: WARNING! top_p is not default parameter.\n",
      "                    top_p was transferred to model_kwargs.\n",
      "                    Please confirm that top_p is what you intended.\n",
      "  warnings.warn(\n"
     ]
    }
   ],
   "source": [
    "from langchain_groq import ChatGroq\n",
    "model = ChatGroq(\n",
    "    api_key=GROQ_API_KEY,\n",
    "    model=\"llama3-70b-8192\",\n",
    "    temperature=1,\n",
    "    max_completion_tokens=1024,\n",
    "    top_p=1,\n",
    ")"
   ]
  },
  {
   "cell_type": "code",
   "execution_count": 8,
   "id": "33745426",
   "metadata": {},
   "outputs": [],
   "source": [
    "#strOutputParser ,chatPromptTemplate\n",
    "from langchain_core.output_parsers import StrOutputParser\n",
    "from langchain_core.prompts import ChatPromptTemplate\n",
    "\n",
    "prompt = ChatPromptTemplate.from_template(\"tell me a curious fact about {politician}\")\n",
    "strOutputParser = StrOutputParser()\n",
    "chain= prompt | model | strOutputParser\n"
   ]
  },
  {
   "cell_type": "code",
   "execution_count": 9,
   "id": "c606dc04",
   "metadata": {},
   "outputs": [
    {
     "data": {
      "text/plain": [
       "\"Here's one:\\n\\nBarack Obama is a collector of Spider-Man and Conan the Barbarian comic books! In fact, he has a vast collection of comics that he started collecting as a child. He has said that he enjoyed reading comics as a way to escape and explore his imagination when he was growing up. Who knew that the 44th President of the United States was also a comic book nerd?\""
      ]
     },
     "execution_count": 9,
     "metadata": {},
     "output_type": "execute_result"
    }
   ],
   "source": [
    "chain.invoke({\"politician\": \"Barack Obama\"})"
   ]
  },
  {
   "cell_type": "markdown",
   "id": "bb61af2b",
   "metadata": {},
   "source": [
    "lagecy chain\n"
   ]
  },
  {
   "cell_type": "code",
   "execution_count": 10,
   "id": "bf32554a",
   "metadata": {},
   "outputs": [
    {
     "name": "stderr",
     "output_type": "stream",
     "text": [
      "C:\\Users\\DELL\\AppData\\Local\\Temp\\ipykernel_12272\\1841342863.py:5: LangChainDeprecationWarning: The class `LLMChain` was deprecated in LangChain 0.1.17 and will be removed in 1.0. Use RunnableSequence, e.g., `prompt | llm` instead.\n",
      "  traditional_chain = LLMChain(\n"
     ]
    },
    {
     "data": {
      "text/plain": [
       "'Here\\'s one:\\n\\nDid you know that Diego Maradona\\'s iconic jersey from the 1986 World Cup, where he scored the infamous \"Hand of God\" goal, was actually auctioned off for a staggering £7.1 million (approximately $9.3 million) in 2020?\\n\\nThe jersey, which is one of the most coveted and valuable sports memorabilia items in the world, was sold to an anonymous buyer after a fierce bidding war. The sale more than doubled the previous record for a sports jersey, and it\\'s a testament to Maradona\\'s enduring legend and the fascination surrounding that infamous match against England.\\n\\nIsn\\'t that a curious fact about the legendary Argentine footballer?'"
      ]
     },
     "execution_count": 10,
     "metadata": {},
     "output_type": "execute_result"
    }
   ],
   "source": [
    "from langchain.chains import LLMChain\n",
    "\n",
    "prompt = ChatPromptTemplate.from_template(\"tell me a curious fact about {soccer_player}\")\n",
    "\n",
    "traditional_chain = LLMChain(\n",
    "    llm=model,\n",
    "    prompt=prompt\n",
    ")\n",
    "\n",
    "traditional_chain.predict(soccer_player=\"Maradona\")"
   ]
  },
  {
   "cell_type": "code",
   "execution_count": 11,
   "id": "165fe54f",
   "metadata": {},
   "outputs": [
    {
     "data": {
      "text/plain": [
       "'Here\\'s one:\\n\\n**Maradona\\'s middle finger has its own Wikipedia page and is often referred to as the \"Hand of God\"!**\\n\\nIn the 1986 World Cup quarterfinal match between Argentina and England, Maradona scored a goal with his hand that was not caught by the referee. The goal was allowed, and Argentina went on to win the game 2-1. The controversy surrounding the goal led to Maradona\\'s hand being referred to as the \"Hand of God.\"\\n\\nThe incident has become one of the most infamous and enduring moments in World Cup history, and Maradona\\'s middle finger has become an iconic symbol of the event.'"
      ]
     },
     "execution_count": 11,
     "metadata": {},
     "output_type": "execute_result"
    }
   ],
   "source": [
    "chain= prompt | model | strOutputParser\n",
    "chain.invoke({\"soccer_player\": \"Maradona\"})"
   ]
  },
  {
   "cell_type": "code",
   "execution_count": 12,
   "id": "58781350",
   "metadata": {},
   "outputs": [
    {
     "data": {
      "text/plain": [
       "'Here\\'s one:\\n\\n**Ronaldo\\'s iconic celebration, where he jumps and spins in the air, was inspired by a move from the popular video game \"Pro Evolution Soccer\" (PES)!**\\n\\nIn an interview, Ronaldo revealed that he was playing PES with his friends and saw a character do a similar celebration, which he loved and decided to imitate in real life. And the rest, as they say, is history!'"
      ]
     },
     "execution_count": 12,
     "metadata": {},
     "output_type": "execute_result"
    }
   ],
   "source": [
    "prompt = ChatPromptTemplate.from_template(\"tell me a curious fact about {soccer_player}\")\n",
    "\n",
    "output_parser = StrOutputParser()\n",
    "\n",
    "chain = prompt | model | output_parser\n",
    "\n",
    "chain.invoke({\"soccer_player\": \"Ronaldo\"})"
   ]
  },
  {
   "cell_type": "code",
   "execution_count": 13,
   "id": "ee3558b8",
   "metadata": {},
   "outputs": [
    {
     "name": "stdout",
     "output_type": "stream",
     "text": [
      "Here's a curious fact about Cristiano Ronaldo:\n",
      "\n",
      "**Ronaldo's incredible jump:**\n",
      "Cristiano Ronaldo has a remarkable ability to jump extremely high, even by professional athlete standards. In fact, his vertical leap has been measured at an astonishing 78 cm (2.56 feet) in the air! To put that into perspective, the average NBA player has a vertical leap of around 60-65 cm (2-2.1 feet). This incredible jumping ability allows Ronaldo to dominate in the air, winning headers and scoring goals with ease.\n",
      "\n",
      "Isn't that just mind-boggling?"
     ]
    }
   ],
   "source": [
    "for s in chain.stream({\"soccer_player\": \"Ronaldo\"}):\n",
    "    print(s, end=\"\", flush=True)"
   ]
  },
  {
   "cell_type": "code",
   "execution_count": 15,
   "id": "45189728",
   "metadata": {},
   "outputs": [
    {
     "data": {
      "text/plain": [
       "['Here\\'s one:\\n\\nDid you know that Cristiano Ronaldo has a hotel named after him, and it\\'s a hotel that he doesn\\'t even own?\\n\\nIn 2016, a hotel called \"CR7\" (his initials and jersey number) was opened in Funchal, Madeira, Portugal, which is Ronaldo\\'s hometown. The hotel is actually owned by Ronaldo\\'s friend, Dinis Oliveira, who is a Portuguese businessman.\\n\\nRonaldo has a strong connection to the hotel, though. He has a museum dedicated to his career and achievements on the top floor of the hotel, which features many of his trophies and memorabilia. Plus, the hotel\\'s interior design and decor are inspired by Ronaldo\\'s love of luxury and his personal style.\\n\\nSo while Ronaldo doesn\\'t own the hotel, it\\'s still a unique tribute to his fame and success!',\n",
       " 'Here\\'s one:\\n\\n**Did you know that Lionel Messi has a growth hormone deficiency?**\\n\\nWhen Messi was 11 years old, he was diagnosed with a growth hormone deficiency that was stunting his growth. His family couldn\\'t afford the treatment, which cost $1,500 per month. However, Messi\\'s talent was so evident that Carles Rexach, the sporting director of FC Barcelona at the time, offered him a contract with the club, which included paying for his treatment.\\n\\nAs a result, Messi moved to Barcelona with his family, and the club paid for his medical treatment, which included injecting himself with growth hormone every night before bedtime. This treatment helped Messi\\'s growth, and he eventually grew to be 5\\'7\" (170 cm) tall.\\n\\nIsn\\'t that an amazing and inspirational story?']"
      ]
     },
     "execution_count": 15,
     "metadata": {},
     "output_type": "execute_result"
    }
   ],
   "source": [
    "chain.batch([{\"soccer_player\":\"Ronaldo\"},{\"soccer_player\":\"Messi\"}])"
   ]
  },
  {
   "cell_type": "code",
   "execution_count": null,
   "id": "6fbd378b",
   "metadata": {},
   "outputs": [],
   "source": []
  }
 ],
 "metadata": {
  "kernelspec": {
   "display_name": "llmapp",
   "language": "python",
   "name": "python3"
  },
  "language_info": {
   "codemirror_mode": {
    "name": "ipython",
    "version": 3
   },
   "file_extension": ".py",
   "mimetype": "text/x-python",
   "name": "python",
   "nbconvert_exporter": "python",
   "pygments_lexer": "ipython3",
   "version": "3.11.13"
  }
 },
 "nbformat": 4,
 "nbformat_minor": 5
}
